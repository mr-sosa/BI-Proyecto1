{
 "cells": [
  {
   "cell_type": "markdown",
   "id": "3e3fe627-4bff-4c9e-958e-ab86d6fd823c",
   "metadata": {},
   "source": [
    "<h1>Notebook Proyecto 1 - Inteligencia de Negocios </h1>"
   ]
  },
  {
   "cell_type": "markdown",
   "id": "67458623-341c-4c20-8220-afd3d64fd88b",
   "metadata": {},
   "source": [
    "<b> Grupo 13 </b> <br>\n",
    "<b> Manuel Sosa - 201815393 </b> <br>\n",
    "<b> Simón Rendón - 201820112</b> <br>\n",
    "<b> Juan David Díaz - 201729408 </b>\n"
   ]
  },
  {
   "cell_type": "code",
   "execution_count": 140,
   "id": "9fbc530b-e25c-475f-afaa-c15228db3f63",
   "metadata": {},
   "outputs": [
    {
     "name": "stdout",
     "output_type": "stream",
     "text": [
      "Requirement already satisfied: contractions in /Users/juanddiaz13/opt/anaconda3/lib/python3.9/site-packages (0.1.66)\n",
      "Requirement already satisfied: textsearch>=0.0.21 in /Users/juanddiaz13/opt/anaconda3/lib/python3.9/site-packages (from contractions) (0.0.21)\n",
      "Requirement already satisfied: anyascii in /Users/juanddiaz13/opt/anaconda3/lib/python3.9/site-packages (from textsearch>=0.0.21->contractions) (0.3.0)\n",
      "Requirement already satisfied: pyahocorasick in /Users/juanddiaz13/opt/anaconda3/lib/python3.9/site-packages (from textsearch>=0.0.21->contractions) (1.4.4)\n"
     ]
    }
   ],
   "source": [
    "# Librería para manejar las contracciones que se presentan en el inglés.\n",
    "!pip install contractions"
   ]
  },
  {
   "cell_type": "code",
   "execution_count": 141,
   "id": "c8483f5e-95e4-4e48-b953-cc478916be32",
   "metadata": {},
   "outputs": [
    {
     "name": "stdout",
     "output_type": "stream",
     "text": [
      "Requirement already satisfied: inflect in /Users/juanddiaz13/opt/anaconda3/lib/python3.9/site-packages (5.4.0)\n",
      "Requirement already satisfied: pandas-profiling==2.7.1 in /Users/juanddiaz13/opt/anaconda3/lib/python3.9/site-packages (2.7.1)\n",
      "Requirement already satisfied: numpy>=1.16.0 in /Users/juanddiaz13/opt/anaconda3/lib/python3.9/site-packages (from pandas-profiling==2.7.1) (1.20.3)\n",
      "Requirement already satisfied: pandas!=1.0.0,!=1.0.1,!=1.0.2,>=0.25.3 in /Users/juanddiaz13/opt/anaconda3/lib/python3.9/site-packages (from pandas-profiling==2.7.1) (1.3.4)\n",
      "Requirement already satisfied: htmlmin>=0.1.12 in /Users/juanddiaz13/opt/anaconda3/lib/python3.9/site-packages (from pandas-profiling==2.7.1) (0.1.12)\n",
      "Requirement already satisfied: scipy>=1.4.1 in /Users/juanddiaz13/opt/anaconda3/lib/python3.9/site-packages (from pandas-profiling==2.7.1) (1.7.1)\n",
      "Requirement already satisfied: confuse>=1.0.0 in /Users/juanddiaz13/opt/anaconda3/lib/python3.9/site-packages (from pandas-profiling==2.7.1) (1.7.0)\n",
      "Requirement already satisfied: jinja2>=2.11.1 in /Users/juanddiaz13/opt/anaconda3/lib/python3.9/site-packages (from pandas-profiling==2.7.1) (2.11.3)\n",
      "Requirement already satisfied: visions[type_image_path]==0.4.1 in /Users/juanddiaz13/opt/anaconda3/lib/python3.9/site-packages (from pandas-profiling==2.7.1) (0.4.1)\n",
      "Requirement already satisfied: astropy>=4.0 in /Users/juanddiaz13/opt/anaconda3/lib/python3.9/site-packages (from pandas-profiling==2.7.1) (4.3.1)\n",
      "Requirement already satisfied: tangled-up-in-unicode>=0.0.4 in /Users/juanddiaz13/opt/anaconda3/lib/python3.9/site-packages (from pandas-profiling==2.7.1) (0.2.0)\n",
      "Requirement already satisfied: joblib in /Users/juanddiaz13/opt/anaconda3/lib/python3.9/site-packages (from pandas-profiling==2.7.1) (1.1.0)\n",
      "Requirement already satisfied: tqdm>=4.43.0 in /Users/juanddiaz13/opt/anaconda3/lib/python3.9/site-packages (from pandas-profiling==2.7.1) (4.62.3)\n",
      "Requirement already satisfied: requests>=2.23.0 in /Users/juanddiaz13/opt/anaconda3/lib/python3.9/site-packages (from pandas-profiling==2.7.1) (2.26.0)\n",
      "Requirement already satisfied: matplotlib>=3.2.0 in /Users/juanddiaz13/opt/anaconda3/lib/python3.9/site-packages (from pandas-profiling==2.7.1) (3.4.3)\n",
      "Requirement already satisfied: missingno>=0.4.2 in /Users/juanddiaz13/opt/anaconda3/lib/python3.9/site-packages (from pandas-profiling==2.7.1) (0.5.1)\n",
      "Requirement already satisfied: ipywidgets>=7.5.1 in /Users/juanddiaz13/opt/anaconda3/lib/python3.9/site-packages (from pandas-profiling==2.7.1) (7.6.5)\n",
      "Requirement already satisfied: phik>=0.9.10 in /Users/juanddiaz13/opt/anaconda3/lib/python3.9/site-packages (from pandas-profiling==2.7.1) (0.12.0)\n",
      "Requirement already satisfied: attrs>=19.3.0 in /Users/juanddiaz13/opt/anaconda3/lib/python3.9/site-packages (from visions[type_image_path]==0.4.1->pandas-profiling==2.7.1) (21.2.0)\n",
      "Requirement already satisfied: networkx>=2.4 in /Users/juanddiaz13/opt/anaconda3/lib/python3.9/site-packages (from visions[type_image_path]==0.4.1->pandas-profiling==2.7.1) (2.6.3)\n",
      "Requirement already satisfied: imagehash in /Users/juanddiaz13/opt/anaconda3/lib/python3.9/site-packages (from visions[type_image_path]==0.4.1->pandas-profiling==2.7.1) (4.2.1)\n",
      "Requirement already satisfied: Pillow in /Users/juanddiaz13/opt/anaconda3/lib/python3.9/site-packages (from visions[type_image_path]==0.4.1->pandas-profiling==2.7.1) (8.4.0)\n",
      "Requirement already satisfied: pyerfa>=1.7.3 in /Users/juanddiaz13/opt/anaconda3/lib/python3.9/site-packages (from astropy>=4.0->pandas-profiling==2.7.1) (2.0.0)\n",
      "Requirement already satisfied: pyyaml in /Users/juanddiaz13/opt/anaconda3/lib/python3.9/site-packages (from confuse>=1.0.0->pandas-profiling==2.7.1) (6.0)\n",
      "Requirement already satisfied: widgetsnbextension~=3.5.0 in /Users/juanddiaz13/opt/anaconda3/lib/python3.9/site-packages (from ipywidgets>=7.5.1->pandas-profiling==2.7.1) (3.5.1)\n",
      "Requirement already satisfied: nbformat>=4.2.0 in /Users/juanddiaz13/opt/anaconda3/lib/python3.9/site-packages (from ipywidgets>=7.5.1->pandas-profiling==2.7.1) (5.1.3)\n",
      "Requirement already satisfied: ipython>=4.0.0 in /Users/juanddiaz13/opt/anaconda3/lib/python3.9/site-packages (from ipywidgets>=7.5.1->pandas-profiling==2.7.1) (7.29.0)\n",
      "Requirement already satisfied: traitlets>=4.3.1 in /Users/juanddiaz13/opt/anaconda3/lib/python3.9/site-packages (from ipywidgets>=7.5.1->pandas-profiling==2.7.1) (5.1.0)\n",
      "Requirement already satisfied: ipython-genutils~=0.2.0 in /Users/juanddiaz13/opt/anaconda3/lib/python3.9/site-packages (from ipywidgets>=7.5.1->pandas-profiling==2.7.1) (0.2.0)\n",
      "Requirement already satisfied: ipykernel>=4.5.1 in /Users/juanddiaz13/opt/anaconda3/lib/python3.9/site-packages (from ipywidgets>=7.5.1->pandas-profiling==2.7.1) (6.4.1)\n",
      "Requirement already satisfied: jupyterlab-widgets>=1.0.0 in /Users/juanddiaz13/opt/anaconda3/lib/python3.9/site-packages (from ipywidgets>=7.5.1->pandas-profiling==2.7.1) (1.0.0)\n",
      "Requirement already satisfied: jupyter-client<8.0 in /Users/juanddiaz13/opt/anaconda3/lib/python3.9/site-packages (from ipykernel>=4.5.1->ipywidgets>=7.5.1->pandas-profiling==2.7.1) (6.1.12)\n",
      "Requirement already satisfied: tornado<7.0,>=4.2 in /Users/juanddiaz13/opt/anaconda3/lib/python3.9/site-packages (from ipykernel>=4.5.1->ipywidgets>=7.5.1->pandas-profiling==2.7.1) (6.1)\n",
      "Requirement already satisfied: debugpy<2.0,>=1.0.0 in /Users/juanddiaz13/opt/anaconda3/lib/python3.9/site-packages (from ipykernel>=4.5.1->ipywidgets>=7.5.1->pandas-profiling==2.7.1) (1.4.1)\n",
      "Requirement already satisfied: matplotlib-inline<0.2.0,>=0.1.0 in /Users/juanddiaz13/opt/anaconda3/lib/python3.9/site-packages (from ipykernel>=4.5.1->ipywidgets>=7.5.1->pandas-profiling==2.7.1) (0.1.2)\n",
      "Requirement already satisfied: appnope in /Users/juanddiaz13/opt/anaconda3/lib/python3.9/site-packages (from ipykernel>=4.5.1->ipywidgets>=7.5.1->pandas-profiling==2.7.1) (0.1.2)\n",
      "Requirement already satisfied: backcall in /Users/juanddiaz13/opt/anaconda3/lib/python3.9/site-packages (from ipython>=4.0.0->ipywidgets>=7.5.1->pandas-profiling==2.7.1) (0.2.0)\n",
      "Requirement already satisfied: pickleshare in /Users/juanddiaz13/opt/anaconda3/lib/python3.9/site-packages (from ipython>=4.0.0->ipywidgets>=7.5.1->pandas-profiling==2.7.1) (0.7.5)\n",
      "Requirement already satisfied: setuptools>=18.5 in /Users/juanddiaz13/opt/anaconda3/lib/python3.9/site-packages (from ipython>=4.0.0->ipywidgets>=7.5.1->pandas-profiling==2.7.1) (58.0.4)\n",
      "Requirement already satisfied: jedi>=0.16 in /Users/juanddiaz13/opt/anaconda3/lib/python3.9/site-packages (from ipython>=4.0.0->ipywidgets>=7.5.1->pandas-profiling==2.7.1) (0.18.0)\n",
      "Requirement already satisfied: pygments in /Users/juanddiaz13/opt/anaconda3/lib/python3.9/site-packages (from ipython>=4.0.0->ipywidgets>=7.5.1->pandas-profiling==2.7.1) (2.10.0)\n",
      "Requirement already satisfied: decorator in /Users/juanddiaz13/opt/anaconda3/lib/python3.9/site-packages (from ipython>=4.0.0->ipywidgets>=7.5.1->pandas-profiling==2.7.1) (5.1.0)\n",
      "Requirement already satisfied: pexpect>4.3 in /Users/juanddiaz13/opt/anaconda3/lib/python3.9/site-packages (from ipython>=4.0.0->ipywidgets>=7.5.1->pandas-profiling==2.7.1) (4.8.0)\n",
      "Requirement already satisfied: prompt-toolkit!=3.0.0,!=3.0.1,<3.1.0,>=2.0.0 in /Users/juanddiaz13/opt/anaconda3/lib/python3.9/site-packages (from ipython>=4.0.0->ipywidgets>=7.5.1->pandas-profiling==2.7.1) (3.0.20)\n",
      "Requirement already satisfied: parso<0.9.0,>=0.8.0 in /Users/juanddiaz13/opt/anaconda3/lib/python3.9/site-packages (from jedi>=0.16->ipython>=4.0.0->ipywidgets>=7.5.1->pandas-profiling==2.7.1) (0.8.2)\n",
      "Requirement already satisfied: MarkupSafe>=0.23 in /Users/juanddiaz13/opt/anaconda3/lib/python3.9/site-packages (from jinja2>=2.11.1->pandas-profiling==2.7.1) (1.1.1)\n",
      "Requirement already satisfied: pyzmq>=13 in /Users/juanddiaz13/opt/anaconda3/lib/python3.9/site-packages (from jupyter-client<8.0->ipykernel>=4.5.1->ipywidgets>=7.5.1->pandas-profiling==2.7.1) (22.2.1)\n",
      "Requirement already satisfied: jupyter-core>=4.6.0 in /Users/juanddiaz13/opt/anaconda3/lib/python3.9/site-packages (from jupyter-client<8.0->ipykernel>=4.5.1->ipywidgets>=7.5.1->pandas-profiling==2.7.1) (4.8.1)\n",
      "Requirement already satisfied: python-dateutil>=2.1 in /Users/juanddiaz13/opt/anaconda3/lib/python3.9/site-packages (from jupyter-client<8.0->ipykernel>=4.5.1->ipywidgets>=7.5.1->pandas-profiling==2.7.1) (2.8.2)\n",
      "Requirement already satisfied: cycler>=0.10 in /Users/juanddiaz13/opt/anaconda3/lib/python3.9/site-packages (from matplotlib>=3.2.0->pandas-profiling==2.7.1) (0.10.0)\n",
      "Requirement already satisfied: kiwisolver>=1.0.1 in /Users/juanddiaz13/opt/anaconda3/lib/python3.9/site-packages (from matplotlib>=3.2.0->pandas-profiling==2.7.1) (1.3.1)\n",
      "Requirement already satisfied: pyparsing>=2.2.1 in /Users/juanddiaz13/opt/anaconda3/lib/python3.9/site-packages (from matplotlib>=3.2.0->pandas-profiling==2.7.1) (3.0.4)\n",
      "Requirement already satisfied: six in /Users/juanddiaz13/opt/anaconda3/lib/python3.9/site-packages (from cycler>=0.10->matplotlib>=3.2.0->pandas-profiling==2.7.1) (1.16.0)\n",
      "Requirement already satisfied: seaborn in /Users/juanddiaz13/opt/anaconda3/lib/python3.9/site-packages (from missingno>=0.4.2->pandas-profiling==2.7.1) (0.11.2)\n",
      "Requirement already satisfied: jsonschema!=2.5.0,>=2.4 in /Users/juanddiaz13/opt/anaconda3/lib/python3.9/site-packages (from nbformat>=4.2.0->ipywidgets>=7.5.1->pandas-profiling==2.7.1) (3.2.0)\n",
      "Requirement already satisfied: pyrsistent>=0.14.0 in /Users/juanddiaz13/opt/anaconda3/lib/python3.9/site-packages (from jsonschema!=2.5.0,>=2.4->nbformat>=4.2.0->ipywidgets>=7.5.1->pandas-profiling==2.7.1) (0.18.0)\n",
      "Requirement already satisfied: pytz>=2017.3 in /Users/juanddiaz13/opt/anaconda3/lib/python3.9/site-packages (from pandas!=1.0.0,!=1.0.1,!=1.0.2,>=0.25.3->pandas-profiling==2.7.1) (2021.3)\n",
      "Requirement already satisfied: ptyprocess>=0.5 in /Users/juanddiaz13/opt/anaconda3/lib/python3.9/site-packages (from pexpect>4.3->ipython>=4.0.0->ipywidgets>=7.5.1->pandas-profiling==2.7.1) (0.7.0)\n",
      "Requirement already satisfied: wcwidth in /Users/juanddiaz13/opt/anaconda3/lib/python3.9/site-packages (from prompt-toolkit!=3.0.0,!=3.0.1,<3.1.0,>=2.0.0->ipython>=4.0.0->ipywidgets>=7.5.1->pandas-profiling==2.7.1) (0.2.5)\n",
      "Requirement already satisfied: idna<4,>=2.5 in /Users/juanddiaz13/opt/anaconda3/lib/python3.9/site-packages (from requests>=2.23.0->pandas-profiling==2.7.1) (3.2)\n",
      "Requirement already satisfied: certifi>=2017.4.17 in /Users/juanddiaz13/opt/anaconda3/lib/python3.9/site-packages (from requests>=2.23.0->pandas-profiling==2.7.1) (2021.10.8)\n",
      "Requirement already satisfied: charset-normalizer~=2.0.0 in /Users/juanddiaz13/opt/anaconda3/lib/python3.9/site-packages (from requests>=2.23.0->pandas-profiling==2.7.1) (2.0.4)\n",
      "Requirement already satisfied: urllib3<1.27,>=1.21.1 in /Users/juanddiaz13/opt/anaconda3/lib/python3.9/site-packages (from requests>=2.23.0->pandas-profiling==2.7.1) (1.26.7)\n",
      "Requirement already satisfied: notebook>=4.4.1 in /Users/juanddiaz13/opt/anaconda3/lib/python3.9/site-packages (from widgetsnbextension~=3.5.0->ipywidgets>=7.5.1->pandas-profiling==2.7.1) (6.4.5)\n",
      "Requirement already satisfied: nbconvert in /Users/juanddiaz13/opt/anaconda3/lib/python3.9/site-packages (from notebook>=4.4.1->widgetsnbextension~=3.5.0->ipywidgets>=7.5.1->pandas-profiling==2.7.1) (6.1.0)\n",
      "Requirement already satisfied: Send2Trash>=1.5.0 in /Users/juanddiaz13/opt/anaconda3/lib/python3.9/site-packages (from notebook>=4.4.1->widgetsnbextension~=3.5.0->ipywidgets>=7.5.1->pandas-profiling==2.7.1) (1.8.0)\n",
      "Requirement already satisfied: terminado>=0.8.3 in /Users/juanddiaz13/opt/anaconda3/lib/python3.9/site-packages (from notebook>=4.4.1->widgetsnbextension~=3.5.0->ipywidgets>=7.5.1->pandas-profiling==2.7.1) (0.9.4)\n",
      "Requirement already satisfied: prometheus-client in /Users/juanddiaz13/opt/anaconda3/lib/python3.9/site-packages (from notebook>=4.4.1->widgetsnbextension~=3.5.0->ipywidgets>=7.5.1->pandas-profiling==2.7.1) (0.11.0)\n",
      "Requirement already satisfied: argon2-cffi in /Users/juanddiaz13/opt/anaconda3/lib/python3.9/site-packages (from notebook>=4.4.1->widgetsnbextension~=3.5.0->ipywidgets>=7.5.1->pandas-profiling==2.7.1) (20.1.0)\n",
      "Requirement already satisfied: cffi>=1.0.0 in /Users/juanddiaz13/opt/anaconda3/lib/python3.9/site-packages (from argon2-cffi->notebook>=4.4.1->widgetsnbextension~=3.5.0->ipywidgets>=7.5.1->pandas-profiling==2.7.1) (1.14.6)\n",
      "Requirement already satisfied: pycparser in /Users/juanddiaz13/opt/anaconda3/lib/python3.9/site-packages (from cffi>=1.0.0->argon2-cffi->notebook>=4.4.1->widgetsnbextension~=3.5.0->ipywidgets>=7.5.1->pandas-profiling==2.7.1) (2.20)\n",
      "Requirement already satisfied: PyWavelets in /Users/juanddiaz13/opt/anaconda3/lib/python3.9/site-packages (from imagehash->visions[type_image_path]==0.4.1->pandas-profiling==2.7.1) (1.1.1)\n",
      "Requirement already satisfied: mistune<2,>=0.8.1 in /Users/juanddiaz13/opt/anaconda3/lib/python3.9/site-packages (from nbconvert->notebook>=4.4.1->widgetsnbextension~=3.5.0->ipywidgets>=7.5.1->pandas-profiling==2.7.1) (0.8.4)\n",
      "Requirement already satisfied: testpath in /Users/juanddiaz13/opt/anaconda3/lib/python3.9/site-packages (from nbconvert->notebook>=4.4.1->widgetsnbextension~=3.5.0->ipywidgets>=7.5.1->pandas-profiling==2.7.1) (0.5.0)\n",
      "Requirement already satisfied: pandocfilters>=1.4.1 in /Users/juanddiaz13/opt/anaconda3/lib/python3.9/site-packages (from nbconvert->notebook>=4.4.1->widgetsnbextension~=3.5.0->ipywidgets>=7.5.1->pandas-profiling==2.7.1) (1.4.3)\n",
      "Requirement already satisfied: jupyterlab-pygments in /Users/juanddiaz13/opt/anaconda3/lib/python3.9/site-packages (from nbconvert->notebook>=4.4.1->widgetsnbextension~=3.5.0->ipywidgets>=7.5.1->pandas-profiling==2.7.1) (0.1.2)\n",
      "Requirement already satisfied: entrypoints>=0.2.2 in /Users/juanddiaz13/opt/anaconda3/lib/python3.9/site-packages (from nbconvert->notebook>=4.4.1->widgetsnbextension~=3.5.0->ipywidgets>=7.5.1->pandas-profiling==2.7.1) (0.3)\n",
      "Requirement already satisfied: bleach in /Users/juanddiaz13/opt/anaconda3/lib/python3.9/site-packages (from nbconvert->notebook>=4.4.1->widgetsnbextension~=3.5.0->ipywidgets>=7.5.1->pandas-profiling==2.7.1) (4.0.0)\n",
      "Requirement already satisfied: defusedxml in /Users/juanddiaz13/opt/anaconda3/lib/python3.9/site-packages (from nbconvert->notebook>=4.4.1->widgetsnbextension~=3.5.0->ipywidgets>=7.5.1->pandas-profiling==2.7.1) (0.7.1)\n",
      "Requirement already satisfied: nbclient<0.6.0,>=0.5.0 in /Users/juanddiaz13/opt/anaconda3/lib/python3.9/site-packages (from nbconvert->notebook>=4.4.1->widgetsnbextension~=3.5.0->ipywidgets>=7.5.1->pandas-profiling==2.7.1) (0.5.3)\n",
      "Requirement already satisfied: nest-asyncio in /Users/juanddiaz13/opt/anaconda3/lib/python3.9/site-packages (from nbclient<0.6.0,>=0.5.0->nbconvert->notebook>=4.4.1->widgetsnbextension~=3.5.0->ipywidgets>=7.5.1->pandas-profiling==2.7.1) (1.5.1)\n",
      "Requirement already satisfied: async-generator in /Users/juanddiaz13/opt/anaconda3/lib/python3.9/site-packages (from nbclient<0.6.0,>=0.5.0->nbconvert->notebook>=4.4.1->widgetsnbextension~=3.5.0->ipywidgets>=7.5.1->pandas-profiling==2.7.1) (1.10)\n",
      "Requirement already satisfied: packaging in /Users/juanddiaz13/opt/anaconda3/lib/python3.9/site-packages (from bleach->nbconvert->notebook>=4.4.1->widgetsnbextension~=3.5.0->ipywidgets>=7.5.1->pandas-profiling==2.7.1) (21.0)\n",
      "Requirement already satisfied: webencodings in /Users/juanddiaz13/opt/anaconda3/lib/python3.9/site-packages (from bleach->nbconvert->notebook>=4.4.1->widgetsnbextension~=3.5.0->ipywidgets>=7.5.1->pandas-profiling==2.7.1) (0.5.1)\n"
     ]
    }
   ],
   "source": [
    "# librería para manejar las flexiones gramaticales en el idioma inglés.\n",
    "!pip install inflect\n",
    "!pip install pandas-profiling==2.7.1"
   ]
  },
  {
   "cell_type": "code",
   "execution_count": 142,
   "id": "ad674aec-ebd0-4b85-bc77-2bbc70f5d117",
   "metadata": {},
   "outputs": [
    {
     "name": "stderr",
     "output_type": "stream",
     "text": [
      "[nltk_data] Downloading package punkt to\n",
      "[nltk_data]     /Users/juanddiaz13/nltk_data...\n",
      "[nltk_data]   Package punkt is already up-to-date!\n"
     ]
    },
    {
     "data": {
      "text/plain": [
       "True"
      ]
     },
     "execution_count": 142,
     "metadata": {},
     "output_type": "execute_result"
    }
   ],
   "source": [
    "# librería Natural Language Toolkit, usada para trabajar con textos \n",
    "import nltk\n",
    "# Punkt permite separar un texto en frases.\n",
    "nltk.download('punkt')"
   ]
  },
  {
   "cell_type": "code",
   "execution_count": 143,
   "id": "6e123a40-b3bf-4ab1-ab4a-993edfab9b59",
   "metadata": {},
   "outputs": [
    {
     "name": "stderr",
     "output_type": "stream",
     "text": [
      "[nltk_data] Downloading package stopwords to\n",
      "[nltk_data]     /Users/juanddiaz13/nltk_data...\n",
      "[nltk_data]   Package stopwords is already up-to-date!\n"
     ]
    },
    {
     "data": {
      "text/plain": [
       "True"
      ]
     },
     "execution_count": 143,
     "metadata": {},
     "output_type": "execute_result"
    }
   ],
   "source": [
    "# Descarga todas las palabras vacias, es decir, aquellas que no aportan nada al significado del texto\n",
    "# ¿Cuales son esas palabras vacías?\n",
    "\n",
    "nltk.download('stopwords')"
   ]
  },
  {
   "cell_type": "code",
   "execution_count": 144,
   "id": "39afa0d9-9064-43e5-bb9c-2f8ead36dd75",
   "metadata": {},
   "outputs": [
    {
     "name": "stderr",
     "output_type": "stream",
     "text": [
      "[nltk_data] Downloading package wordnet to\n",
      "[nltk_data]     /Users/juanddiaz13/nltk_data...\n",
      "[nltk_data]   Package wordnet is already up-to-date!\n"
     ]
    },
    {
     "data": {
      "text/plain": [
       "True"
      ]
     },
     "execution_count": 144,
     "metadata": {},
     "output_type": "execute_result"
    }
   ],
   "source": [
    "# Descarga de paquete WordNetLemmatizer, este es usado para encontrar el lema de cada palabra\n",
    "# ¿Qué es el lema de una palabra? ¿Qué tan dificil puede ser obtenerlo, piensa en el caso en que tuvieras que escribir la función que realiza esta tarea?\n",
    "nltk.download('wordnet')"
   ]
  },
  {
   "cell_type": "code",
   "execution_count": 145,
   "id": "db0cff9f-9de8-48b4-925e-d5b0e49122c1",
   "metadata": {},
   "outputs": [
    {
     "name": "stderr",
     "output_type": "stream",
     "text": [
      "[nltk_data] Downloading package punkt to\n",
      "[nltk_data]     /Users/juanddiaz13/nltk_data...\n",
      "[nltk_data]   Package punkt is already up-to-date!\n",
      "[nltk_data] Downloading package averaged_perceptron_tagger to\n",
      "[nltk_data]     /Users/juanddiaz13/nltk_data...\n",
      "[nltk_data]   Package averaged_perceptron_tagger is already up-to-\n",
      "[nltk_data]       date!\n",
      "[nltk_data] Downloading package wordnet to\n",
      "[nltk_data]     /Users/juanddiaz13/nltk_data...\n",
      "[nltk_data]   Package wordnet is already up-to-date!\n"
     ]
    }
   ],
   "source": [
    "# Instalación de librerias\n",
    "\n",
    "import pandas as pd\n",
    "import numpy as np\n",
    "import sys\n",
    "from pandas_profiling import ProfileReport\n",
    "\n",
    "import re, string, unicodedata\n",
    "import contractions\n",
    "import inflect\n",
    "from nltk import word_tokenize, sent_tokenize\n",
    "from nltk.corpus import stopwords\n",
    "from nltk.stem import LancasterStemmer, WordNetLemmatizer\n",
    "from nltk.corpus import wordnet\n",
    "\n",
    "nltk.download('punkt')\n",
    "nltk.download('averaged_perceptron_tagger')\n",
    "nltk.download('wordnet')\n",
    "\n",
    "from sklearn.model_selection import train_test_split,GridSearchCV\n",
    "from sklearn.feature_extraction.text import TfidfVectorizer, CountVectorizer, HashingVectorizer\n",
    "from sklearn.pipeline import Pipeline, FeatureUnion\n",
    "from sklearn.svm import SVC\n",
    "from sklearn.ensemble import BaggingClassifier, RandomForestClassifier, AdaBoostClassifier\n",
    "from sklearn.naive_bayes import BernoulliNB\n",
    "from sklearn.metrics import classification_report, confusion_matrix, plot_precision_recall_curve\n",
    "from sklearn.base import BaseEstimator, ClassifierMixin\n",
    "\n",
    "import matplotlib.pyplot as plt\n",
    "\n",
    "from collections import Counter\n",
    "\n",
    "import seaborn as sns"
   ]
  },
  {
   "cell_type": "markdown",
   "id": "7e9af361-328b-4e73-98a6-2ced4b55df6a",
   "metadata": {},
   "source": [
    "<h2> Cargar los datos </h2>"
   ]
  },
  {
   "cell_type": "code",
   "execution_count": 146,
   "id": "f80cd950-3b65-4f30-a544-1a9d46fafc12",
   "metadata": {},
   "outputs": [],
   "source": [
    "# Uso de la libreria pandas para la lectura de archivos\n",
    "data=pd.read_csv('clinical_trials_on_cancer_data_clasificacion.csv', sep=',', encoding = 'utf-8')\n",
    "# Asignación a una nueva variable de los datos leidos\n",
    "df_textos=data"
   ]
  },
  {
   "cell_type": "code",
   "execution_count": 147,
   "id": "45ac50de-ae03-4e04-8dd2-2ae9b480ff88",
   "metadata": {},
   "outputs": [
    {
     "data": {
      "text/html": [
       "<div>\n",
       "<style scoped>\n",
       "    .dataframe tbody tr th:only-of-type {\n",
       "        vertical-align: middle;\n",
       "    }\n",
       "\n",
       "    .dataframe tbody tr th {\n",
       "        vertical-align: top;\n",
       "    }\n",
       "\n",
       "    .dataframe thead th {\n",
       "        text-align: right;\n",
       "    }\n",
       "</style>\n",
       "<table border=\"1\" class=\"dataframe\">\n",
       "  <thead>\n",
       "    <tr style=\"text-align: right;\">\n",
       "      <th></th>\n",
       "      <th>label</th>\n",
       "      <th>study_and_condition</th>\n",
       "    </tr>\n",
       "  </thead>\n",
       "  <tbody>\n",
       "    <tr>\n",
       "      <th>0</th>\n",
       "      <td>__label__0</td>\n",
       "      <td>study interventions are Saracatinib . recurren...</td>\n",
       "    </tr>\n",
       "    <tr>\n",
       "      <th>1</th>\n",
       "      <td>__label__1</td>\n",
       "      <td>study interventions are Stem cell transplantat...</td>\n",
       "    </tr>\n",
       "    <tr>\n",
       "      <th>2</th>\n",
       "      <td>__label__0</td>\n",
       "      <td>study interventions are Lenograstim . recurren...</td>\n",
       "    </tr>\n",
       "    <tr>\n",
       "      <th>3</th>\n",
       "      <td>__label__0</td>\n",
       "      <td>study interventions are Doxorubicin . stage ii...</td>\n",
       "    </tr>\n",
       "    <tr>\n",
       "      <th>4</th>\n",
       "      <td>__label__1</td>\n",
       "      <td>study interventions are Poly I-C . prostate ca...</td>\n",
       "    </tr>\n",
       "  </tbody>\n",
       "</table>\n",
       "</div>"
      ],
      "text/plain": [
       "        label                                study_and_condition\n",
       "0  __label__0  study interventions are Saracatinib . recurren...\n",
       "1  __label__1  study interventions are Stem cell transplantat...\n",
       "2  __label__0  study interventions are Lenograstim . recurren...\n",
       "3  __label__0  study interventions are Doxorubicin . stage ii...\n",
       "4  __label__1  study interventions are Poly I-C . prostate ca..."
      ]
     },
     "execution_count": 147,
     "metadata": {},
     "output_type": "execute_result"
    }
   ],
   "source": [
    "df_textos.head()"
   ]
  },
  {
   "cell_type": "code",
   "execution_count": 148,
   "id": "e5c6508b-ea8e-4798-a23e-461667f398b0",
   "metadata": {},
   "outputs": [
    {
     "data": {
      "text/plain": [
       "label                  object\n",
       "study_and_condition    object\n",
       "dtype: object"
      ]
     },
     "execution_count": 148,
     "metadata": {},
     "output_type": "execute_result"
    }
   ],
   "source": [
    "df_textos.dtypes"
   ]
  },
  {
   "cell_type": "markdown",
   "id": "741103b7-c441-47bf-a4c7-3a9e51421f50",
   "metadata": {},
   "source": [
    "<h2> 1. Perfilamiento de los datos </h2>"
   ]
  },
  {
   "cell_type": "code",
   "execution_count": 149,
   "id": "99de3d50-4915-42b3-96c9-70b1c5eb52b9",
   "metadata": {},
   "outputs": [
    {
     "data": {
      "text/plain": [
       "12"
      ]
     },
     "execution_count": 149,
     "metadata": {},
     "output_type": "execute_result"
    }
   ],
   "source": [
    "df_textos.duplicated().sum()"
   ]
  },
  {
   "cell_type": "markdown",
   "id": "ae7db7e3-3a5a-4db2-b20b-a2baf1b4371a",
   "metadata": {},
   "source": [
    "<p> Existen 12 campos duplicados </p> "
   ]
  },
  {
   "cell_type": "code",
   "execution_count": 150,
   "id": "34eccff9-fb2d-44ed-9bcc-7efc5b42ce61",
   "metadata": {},
   "outputs": [
    {
     "data": {
      "text/plain": [
       "label                  0\n",
       "study_and_condition    0\n",
       "dtype: int64"
      ]
     },
     "execution_count": 150,
     "metadata": {},
     "output_type": "execute_result"
    }
   ],
   "source": [
    "df_textos.isna().sum()"
   ]
  },
  {
   "cell_type": "markdown",
   "id": "f41ccc4c-ae28-490c-bce1-1dbcbfd8378f",
   "metadata": {},
   "source": [
    "<p> No existen nulos en la base de datos encontrados es nulo </p>"
   ]
  },
  {
   "cell_type": "code",
   "execution_count": 151,
   "id": "de3929a3-3296-4529-8be1-f47bab94926f",
   "metadata": {},
   "outputs": [
    {
     "name": "stdout",
     "output_type": "stream",
     "text": [
      "__label__0    6000\n",
      "__label__1    6000\n",
      "Name: label, dtype: int64\n"
     ]
    },
    {
     "name": "stderr",
     "output_type": "stream",
     "text": [
      "/Users/juanddiaz13/opt/anaconda3/lib/python3.9/site-packages/seaborn/_decorators.py:36: FutureWarning: Pass the following variables as keyword args: x, y. From version 0.12, the only valid positional argument will be `data`, and passing other arguments without an explicit keyword will result in an error or misinterpretation.\n",
      "  warnings.warn(\n"
     ]
    },
    {
     "data": {
      "text/plain": [
       "<AxesSubplot:ylabel='label'>"
      ]
     },
     "execution_count": 151,
     "metadata": {},
     "output_type": "execute_result"
    },
    {
     "data": {
      "image/png": "[encoded data removed]",
      "text/plain": [
       "<Figure size 576x396 with 1 Axes>"
      ]
     },
     "metadata": {},
     "output_type": "display_data"
    }
   ],
   "source": [
    "x=df_textos['label'].value_counts()\n",
    "print(x)\n",
    "sns.barplot(x.index,x)"
   ]
  },
  {
   "cell_type": "markdown",
   "id": "de902df2-a1ee-4b5f-9caf-07c79fcc9289",
   "metadata": {},
   "source": [
    "<p> Hay 6000 datos de cada label. Esto significa que los datos están balanceados por lo que no se necesitará someter los datos a un proceso de balanceo </p> "
   ]
  },
  {
   "cell_type": "code",
   "execution_count": 152,
   "id": "70dfc5a0-c187-432f-b42d-fba5cd825333",
   "metadata": {},
   "outputs": [
    {
     "name": "stdout",
     "output_type": "stream",
     "text": [
      "Promedio de palabras de __label__0 : 23.131166666666665\n",
      "Promedio de palabras de __label__1 : 25.288833333333333\n"
     ]
    }
   ],
   "source": [
    "df_textos['word_count'] = df_textos['study_and_condition'].apply(lambda x: len(str(x).split()))\n",
    "print(\"Promedio de palabras de __label__0 :\",df_textos[df_textos['label']=='__label__0']['word_count'].mean()) \n",
    "print(\"Promedio de palabras de __label__1 :\",df_textos[df_textos['label']=='__label__1']['word_count'].mean()) "
   ]
  },
  {
   "cell_type": "markdown",
   "id": "40da2321-20da-4a6d-89df-f8dfe02def0b",
   "metadata": {},
   "source": [
    "<p> El promedio de palabras que tienen tiene un campo que es tipo label 0 es de 23.13166... y para el label 1 es de 25.28883...</p>"
   ]
  },
  {
   "cell_type": "code",
   "execution_count": 153,
   "id": "e4ea03e8-53e9-401c-ac60-d7af269f2dd1",
   "metadata": {},
   "outputs": [
    {
     "data": {
      "image/png": "[encoded data removed]",
      "text/plain": [
       "<Figure size 720x288 with 2 Axes>"
      ]
     },
     "metadata": {},
     "output_type": "display_data"
    }
   ],
   "source": [
    "fig,(ax1,ax2)=plt.subplots(1,2,figsize=(10,4))\n",
    "train_words=df_textos[df_textos['label']=='__label__0']['word_count']\n",
    "ax1.hist(train_words,color='red')\n",
    "ax1.set_title('__label__0')\n",
    "train_words=df_textos[df_textos['label']=='__label__1']['word_count']\n",
    "ax2.hist(train_words,color='green')\n",
    "ax2.set_title('__label__1')\n",
    "fig.suptitle('Palabras por study and condition')\n",
    "plt.show()"
   ]
  },
  {
   "cell_type": "code",
   "execution_count": 154,
   "id": "48907b6f-2a94-4742-b477-5b7907c3b3cb",
   "metadata": {},
   "outputs": [
    {
     "name": "stdout",
     "output_type": "stream",
     "text": [
      "Promedio de caracteres de __label__0 : 165.273\n",
      "Promedio de caracteres de __label__1 : 182.292\n"
     ]
    }
   ],
   "source": [
    "df_textos['char_count'] = df_textos['study_and_condition'].apply(lambda x: len(str(x)))\n",
    "print(\"Promedio de caracteres de __label__0 :\",df_textos[df_textos['label']=='__label__0']['char_count'].mean()) \n",
    "print(\"Promedio de caracteres de __label__1 :\",df_textos[df_textos['label']=='__label__1']['char_count'].mean()) "
   ]
  },
  {
   "cell_type": "markdown",
   "id": "87c4dbfd-2d8d-4270-aa49-f0c7a3c8e1b9",
   "metadata": {},
   "source": [
    "<h2> 2. Preparación de los datos </h2>"
   ]
  },
  {
   "cell_type": "code",
   "execution_count": 155,
   "id": "1cd0e644-b319-4583-b759-99801355937f",
   "metadata": {},
   "outputs": [],
   "source": [
    "def remove_non_ascii(words):\n",
    "    \"\"\"Remove non-ASCII characters from list of tokenized words\"\"\"\n",
    "    new_words = []\n",
    "    for word in words:\n",
    "        new_word = unicodedata.normalize('NFKD', word).encode('ascii', 'ignore').decode('utf-8', 'ignore')\n",
    "        new_words.append(new_word)\n",
    "    return new_words\n",
    "\n",
    "def preprocess(words):\n",
    "    words = words.lower() \n",
    "    words= words.strip()  \n",
    "    words=re.compile('<.*?>').sub('', words) \n",
    "    words = re.compile('[%s]' % re.escape(string.punctuation)).sub(' ', words)  \n",
    "    words = re.sub('\\s+', ' ', words)  \n",
    "    words = re.sub(r'\\[[0-9]*\\]',' ',words) \n",
    "    words=re.sub(r'[^\\w\\s]', '', str(words).lower().strip())\n",
    "    words = re.sub(r'\\d',' ',words) \n",
    "    words = re.sub(r'\\s+',' ',words) \n",
    "    return words\n",
    "\n",
    "def remove_punctuation(words):\n",
    "    \"\"\"Remove punctuation from list of tokenized words\"\"\"\n",
    "    new_words = []\n",
    "    for word in words:\n",
    "        new_word = re.sub(r'[^\\w\\s]', '', word)\n",
    "        if new_word != '':\n",
    "            new_words.append(new_word)\n",
    "    return new_words\n",
    "\n",
    "def replace_numbers(words):\n",
    "    \"\"\"Replace all interger occurrences in list of tokenized words with textual representation\"\"\"\n",
    "    p = inflect.engine()\n",
    "    new_words = []\n",
    "    for word in words:\n",
    "        if word.isdigit():\n",
    "            new_word = p.number_to_words(word)\n",
    "            new_words.append(new_word)\n",
    "        else:\n",
    "            new_words.append(word)\n",
    "    return new_words\n",
    "\n",
    "def stopword(words):\n",
    "    \"\"\"Remove stop words from list of tokenized words\"\"\"\n",
    "    a= [i for i in words.split() if i not in stopwords.words('english')]\n",
    "    return ' '.join(a)\n",
    "\n",
    "def preprocessing(words):\n",
    "    words = replace_numbers(words)\n",
    "    words = remove_punctuation(words)\n",
    "    words = remove_non_ascii(words)\n",
    "    textoFinal = \"\"\n",
    "    for x in words:\n",
    "        textoFinal+=x+\" \"\n",
    "    return textoFinal\n",
    "\n",
    "#LEMMATIZATION\n",
    "# Initialize the lemmatizer\n",
    "wl = WordNetLemmatizer()\n",
    " \n",
    "# This is a helper function to map NTLK position tags\n",
    "def get_wordnet_pos(tag):\n",
    "    if tag.startswith('J'):\n",
    "        return wordnet.ADJ\n",
    "    elif tag.startswith('V'):\n",
    "        return wordnet.VERB\n",
    "    elif tag.startswith('N'):\n",
    "        return wordnet.NOUN\n",
    "    elif tag.startswith('R'):\n",
    "        return wordnet.ADV\n",
    "    else:\n",
    "        return wordnet.NOUN\n",
    "# Tokenize the sentence\n",
    "def lemmatizer(string):\n",
    "    word_pos_tags = nltk.pos_tag(word_tokenize(string)) # Get position tags\n",
    "    a=[wl.lemmatize(tag[0], get_wordnet_pos(tag[1])) for idx, tag in enumerate(word_pos_tags)] # Map the position tag and lemmatize the word/token\n",
    "    return \" \".join(a)"
   ]
  },
  {
   "cell_type": "code",
   "execution_count": 156,
   "id": "c674250b-b0e6-4ea1-8741-a9677d18dc0a",
   "metadata": {
    "tags": []
   },
   "outputs": [
    {
     "data": {
      "text/html": [
       "<div>\n",
       "<style scoped>\n",
       "    .dataframe tbody tr th:only-of-type {\n",
       "        vertical-align: middle;\n",
       "    }\n",
       "\n",
       "    .dataframe tbody tr th {\n",
       "        vertical-align: top;\n",
       "    }\n",
       "\n",
       "    .dataframe thead th {\n",
       "        text-align: right;\n",
       "    }\n",
       "</style>\n",
       "<table border=\"1\" class=\"dataframe\">\n",
       "  <thead>\n",
       "    <tr style=\"text-align: right;\">\n",
       "      <th></th>\n",
       "      <th>label</th>\n",
       "      <th>study_and_condition</th>\n",
       "      <th>word_count</th>\n",
       "      <th>char_count</th>\n",
       "      <th>texto procesado</th>\n",
       "    </tr>\n",
       "  </thead>\n",
       "  <tbody>\n",
       "    <tr>\n",
       "      <th>0</th>\n",
       "      <td>__label__0</td>\n",
       "      <td>study interventions are Saracatinib . recurren...</td>\n",
       "      <td>38</td>\n",
       "      <td>250</td>\n",
       "      <td>study interventions are Saracatinib recurrent ...</td>\n",
       "    </tr>\n",
       "    <tr>\n",
       "      <th>1</th>\n",
       "      <td>__label__1</td>\n",
       "      <td>study interventions are Stem cell transplantat...</td>\n",
       "      <td>32</td>\n",
       "      <td>224</td>\n",
       "      <td>study interventions are Stem cell transplantat...</td>\n",
       "    </tr>\n",
       "    <tr>\n",
       "      <th>2</th>\n",
       "      <td>__label__0</td>\n",
       "      <td>study interventions are Lenograstim . recurren...</td>\n",
       "      <td>33</td>\n",
       "      <td>229</td>\n",
       "      <td>study interventions are Lenograstim recurrent ...</td>\n",
       "    </tr>\n",
       "    <tr>\n",
       "      <th>3</th>\n",
       "      <td>__label__0</td>\n",
       "      <td>study interventions are Doxorubicin . stage ii...</td>\n",
       "      <td>46</td>\n",
       "      <td>268</td>\n",
       "      <td>study interventions are Doxorubicin stage iii ...</td>\n",
       "    </tr>\n",
       "    <tr>\n",
       "      <th>4</th>\n",
       "      <td>__label__1</td>\n",
       "      <td>study interventions are Poly I-C . prostate ca...</td>\n",
       "      <td>31</td>\n",
       "      <td>232</td>\n",
       "      <td>study interventions are Poly IC prostate cance...</td>\n",
       "    </tr>\n",
       "  </tbody>\n",
       "</table>\n",
       "</div>"
      ],
      "text/plain": [
       "        label                                study_and_condition  word_count  \\\n",
       "0  __label__0  study interventions are Saracatinib . recurren...          38   \n",
       "1  __label__1  study interventions are Stem cell transplantat...          32   \n",
       "2  __label__0  study interventions are Lenograstim . recurren...          33   \n",
       "3  __label__0  study interventions are Doxorubicin . stage ii...          46   \n",
       "4  __label__1  study interventions are Poly I-C . prostate ca...          31   \n",
       "\n",
       "   char_count                                    texto procesado  \n",
       "0         250  study interventions are Saracatinib recurrent ...  \n",
       "1         224  study interventions are Stem cell transplantat...  \n",
       "2         229  study interventions are Lenograstim recurrent ...  \n",
       "3         268  study interventions are Doxorubicin stage iii ...  \n",
       "4         232  study interventions are Poly IC prostate cance...  "
      ]
     },
     "execution_count": 156,
     "metadata": {},
     "output_type": "execute_result"
    }
   ],
   "source": [
    "df_textos['study_and_condition'] = df_textos['study_and_condition'].apply(contractions.fix)\n",
    "df_textos['texto procesado'] = df_textos['study_and_condition'].apply(word_tokenize).apply(preprocessing) #Aplica la eliminación del ruido\n",
    "df_textos.head()"
   ]
  },
  {
   "cell_type": "code",
   "execution_count": 157,
   "id": "407b51c9-e23d-4605-af8a-20b9dc1d052e",
   "metadata": {
    "tags": []
   },
   "outputs": [
    {
     "data": {
      "text/html": [
       "<div>\n",
       "<style scoped>\n",
       "    .dataframe tbody tr th:only-of-type {\n",
       "        vertical-align: middle;\n",
       "    }\n",
       "\n",
       "    .dataframe tbody tr th {\n",
       "        vertical-align: top;\n",
       "    }\n",
       "\n",
       "    .dataframe thead th {\n",
       "        text-align: right;\n",
       "    }\n",
       "</style>\n",
       "<table border=\"1\" class=\"dataframe\">\n",
       "  <thead>\n",
       "    <tr style=\"text-align: right;\">\n",
       "      <th></th>\n",
       "      <th>label</th>\n",
       "      <th>study_and_condition</th>\n",
       "      <th>word_count</th>\n",
       "      <th>char_count</th>\n",
       "      <th>texto procesado</th>\n",
       "      <th>clean_text</th>\n",
       "    </tr>\n",
       "  </thead>\n",
       "  <tbody>\n",
       "    <tr>\n",
       "      <th>0</th>\n",
       "      <td>__label__0</td>\n",
       "      <td>study interventions are Saracatinib . recurren...</td>\n",
       "      <td>38</td>\n",
       "      <td>250</td>\n",
       "      <td>study interventions are Saracatinib recurrent ...</td>\n",
       "      <td>study intervention saracatinib recurrent verru...</td>\n",
       "    </tr>\n",
       "    <tr>\n",
       "      <th>1</th>\n",
       "      <td>__label__1</td>\n",
       "      <td>study interventions are Stem cell transplantat...</td>\n",
       "      <td>32</td>\n",
       "      <td>224</td>\n",
       "      <td>study interventions are Stem cell transplantat...</td>\n",
       "      <td>study intervention stem cell transplantation h...</td>\n",
       "    </tr>\n",
       "    <tr>\n",
       "      <th>2</th>\n",
       "      <td>__label__0</td>\n",
       "      <td>study interventions are Lenograstim . recurren...</td>\n",
       "      <td>33</td>\n",
       "      <td>229</td>\n",
       "      <td>study interventions are Lenograstim recurrent ...</td>\n",
       "      <td>study intervention lenograstim recurrent adult...</td>\n",
       "    </tr>\n",
       "    <tr>\n",
       "      <th>3</th>\n",
       "      <td>__label__0</td>\n",
       "      <td>study interventions are Doxorubicin . stage ii...</td>\n",
       "      <td>46</td>\n",
       "      <td>268</td>\n",
       "      <td>study interventions are Doxorubicin stage iii ...</td>\n",
       "      <td>study intervention doxorubicin stage iii diffu...</td>\n",
       "    </tr>\n",
       "    <tr>\n",
       "      <th>4</th>\n",
       "      <td>__label__1</td>\n",
       "      <td>study interventions are Poly I-C . prostate ca...</td>\n",
       "      <td>31</td>\n",
       "      <td>232</td>\n",
       "      <td>study interventions are Poly IC prostate cance...</td>\n",
       "      <td>study intervention poly ic prostate cancer dia...</td>\n",
       "    </tr>\n",
       "  </tbody>\n",
       "</table>\n",
       "</div>"
      ],
      "text/plain": [
       "        label                                study_and_condition  word_count  \\\n",
       "0  __label__0  study interventions are Saracatinib . recurren...          38   \n",
       "1  __label__1  study interventions are Stem cell transplantat...          32   \n",
       "2  __label__0  study interventions are Lenograstim . recurren...          33   \n",
       "3  __label__0  study interventions are Doxorubicin . stage ii...          46   \n",
       "4  __label__1  study interventions are Poly I-C . prostate ca...          31   \n",
       "\n",
       "   char_count                                    texto procesado  \\\n",
       "0         250  study interventions are Saracatinib recurrent ...   \n",
       "1         224  study interventions are Stem cell transplantat...   \n",
       "2         229  study interventions are Lenograstim recurrent ...   \n",
       "3         268  study interventions are Doxorubicin stage iii ...   \n",
       "4         232  study interventions are Poly IC prostate cance...   \n",
       "\n",
       "                                          clean_text  \n",
       "0  study intervention saracatinib recurrent verru...  \n",
       "1  study intervention stem cell transplantation h...  \n",
       "2  study intervention lenograstim recurrent adult...  \n",
       "3  study intervention doxorubicin stage iii diffu...  \n",
       "4  study intervention poly ic prostate cancer dia...  "
      ]
     },
     "execution_count": 157,
     "metadata": {},
     "output_type": "execute_result"
    }
   ],
   "source": [
    "def finalpreprocess(string):\n",
    "    return lemmatizer(stopword(preprocess(string)))\n",
    "df_textos['clean_text'] = df_textos['texto procesado'].apply(lambda x: finalpreprocess(x))\n",
    "df_textos.head()"
   ]
  },
  {
   "cell_type": "code",
   "execution_count": null,
   "id": "87607c92-fcff-491d-891d-a2599b43c67e",
   "metadata": {},
   "outputs": [],
   "source": []
  }
 ],
 "metadata": {
  "kernelspec": {
   "display_name": "Python 3 (ipykernel)",
   "language": "python",
   "name": "python3"
  },
  "language_info": {
   "codemirror_mode": {
    "name": "ipython",
    "version": 3
   },
   "file_extension": ".py",
   "mimetype": "text/x-python",
   "name": "python",
   "nbconvert_exporter": "python",
   "pygments_lexer": "ipython3",
   "version": "3.9.7"
  }
 },
 "nbformat": 4,
 "nbformat_minor": 5
}
